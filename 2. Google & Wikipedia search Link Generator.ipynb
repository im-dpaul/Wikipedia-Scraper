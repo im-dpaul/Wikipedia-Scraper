{
 "cells": [
  {
   "cell_type": "code",
   "execution_count": 1,
   "id": "02c979a4",
   "metadata": {},
   "outputs": [],
   "source": [
    "import requests\n",
    "from bs4 import BeautifulSoup"
   ]
  },
  {
   "cell_type": "code",
   "execution_count": 2,
   "id": "bf71f06a",
   "metadata": {},
   "outputs": [
    {
     "name": "stdout",
     "output_type": "stream",
     "text": [
      "Enter the topic: One Direction\n"
     ]
    }
   ],
   "source": [
    "title = str(input('Enter the topic: ')).replace(' ', '+')"
   ]
  },
  {
   "cell_type": "code",
   "execution_count": 3,
   "id": "32c85b60",
   "metadata": {},
   "outputs": [
    {
     "name": "stdout",
     "output_type": "stream",
     "text": [
      "One+Direction\n"
     ]
    }
   ],
   "source": [
    "print(title)"
   ]
  },
  {
   "cell_type": "code",
   "execution_count": 4,
   "id": "64931366",
   "metadata": {},
   "outputs": [],
   "source": [
    "link = 'https://www.google.com/search?q='+ title +'+wikipedia'"
   ]
  },
  {
   "cell_type": "code",
   "execution_count": 5,
   "id": "7b14910c",
   "metadata": {},
   "outputs": [
    {
     "name": "stdout",
     "output_type": "stream",
     "text": [
      "https://www.google.com/search?q=One+Direction+wikipedia\n"
     ]
    }
   ],
   "source": [
    "print(link)"
   ]
  },
  {
   "cell_type": "code",
   "execution_count": 6,
   "id": "86ae6f59",
   "metadata": {},
   "outputs": [],
   "source": [
    "res = requests.get(link)\n",
    "\n",
    "soup = BeautifulSoup(res.text, 'html.parser')"
   ]
  },
  {
   "cell_type": "code",
   "execution_count": 7,
   "id": "9c1d0f9e",
   "metadata": {},
   "outputs": [],
   "source": [
    "for sp in soup.find_all('a'):\n",
    "    if 'https://en.wikipedia.org/wiki/' in sp.get('href'):\n",
    "        link = sp.get('href')\n",
    "        break"
   ]
  },
  {
   "cell_type": "code",
   "execution_count": 8,
   "id": "2c03d7f0",
   "metadata": {},
   "outputs": [
    {
     "name": "stdout",
     "output_type": "stream",
     "text": [
      "/url?q=https://en.wikipedia.org/wiki/One_Direction&sa=U&ved=2ahUKEwjlm_LH-_OEAxW7fGwGHd5vAfUQFnoECAoQAg&usg=AOvVaw2d_8OBGb3b5_M83fTHELPt\n",
      "-----\n",
      "https://en.wikipedia.org/wiki/One_Direction&sa=U&ved=2ahUKEwjlm_LH-_OEAxW7fGwGHd5vAfUQFnoECAoQAg&usg=AOvVaw2d_8OBGb3b5_M83fTHELPt\n",
      "-----\n",
      "['https://en.wikipedia.org/wiki/One_Direction', 'sa=U', 'ved=2ahUKEwjlm_LH-_OEAxW7fGwGHd5vAfUQFnoECAoQAg', 'usg=AOvVaw2d_8OBGb3b5_M83fTHELPt']\n",
      "-----\n",
      "https://en.wikipedia.org/wiki/One_Direction\n"
     ]
    }
   ],
   "source": [
    "print(link)\n",
    "\n",
    "print('-'*5)\n",
    "\n",
    "print(link[7:])\n",
    "\n",
    "print('-'*5)\n",
    "\n",
    "print(link[7:].split('&'))\n",
    "\n",
    "print('-'*5)\n",
    "\n",
    "print(link[7:].split('&')[0])"
   ]
  },
  {
   "cell_type": "code",
   "execution_count": 9,
   "id": "3d39bb1f",
   "metadata": {},
   "outputs": [],
   "source": [
    "link = link[7:].split('&')[0]"
   ]
  },
  {
   "cell_type": "code",
   "execution_count": 10,
   "id": "e72d643b",
   "metadata": {},
   "outputs": [
    {
     "name": "stdout",
     "output_type": "stream",
     "text": [
      "https://en.wikipedia.org/wiki/One_Direction\n"
     ]
    }
   ],
   "source": [
    "print(link)"
   ]
  },
  {
   "cell_type": "code",
   "execution_count": null,
   "id": "c7d5a7e7",
   "metadata": {},
   "outputs": [],
   "source": []
  }
 ],
 "metadata": {
  "kernelspec": {
   "display_name": "Python 3 (ipykernel)",
   "language": "python",
   "name": "python3"
  },
  "language_info": {
   "codemirror_mode": {
    "name": "ipython",
    "version": 3
   },
   "file_extension": ".py",
   "mimetype": "text/x-python",
   "name": "python",
   "nbconvert_exporter": "python",
   "pygments_lexer": "ipython3",
   "version": "3.11.5"
  }
 },
 "nbformat": 4,
 "nbformat_minor": 5
}
